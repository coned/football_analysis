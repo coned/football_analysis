{
 "nbformat": 4,
 "nbformat_minor": 2,
 "metadata": {
  "language_info": {
   "name": "python",
   "codemirror_mode": {
    "name": "ipython",
    "version": 3
   },
   "version": "3.8.1-final"
  },
  "orig_nbformat": 2,
  "file_extension": ".py",
  "mimetype": "text/x-python",
  "name": "python",
  "npconvert_exporter": "python",
  "pygments_lexer": "ipython3",
  "version": 3,
  "kernelspec": {
   "name": "python38164bit0d31838e1ad44f9996d8fc6fab7bed00",
   "display_name": "Python 3.8.1 64-bit"
  }
 },
 "cells": [
  {
   "cell_type": "code",
   "execution_count": 1,
   "metadata": {},
   "outputs": [],
   "source": [
    "import csv\n",
    "import networkx as nx\n",
    "import matplotlib.pyplot as plt\n",
    "import matplotlib.colors as plcolor"
   ]
  },
  {
   "cell_type": "code",
   "execution_count": 2,
   "metadata": {},
   "outputs": [],
   "source": [
    "def my_layout(G, scale=100):\n",
    "    layout = {}\n",
    "    for node in G.nodes():\n",
    "        layout[node] = [G.nodes[node]['x'] / scale, G.nodes[node]['y'] / scale]\n",
    "    return layout"
   ]
  },
  {
   "cell_type": "code",
   "execution_count": 3,
   "metadata": {},
   "outputs": [],
   "source": [
    "cdict = {\n",
    "    'red'   : [[0.0, 0.0, 0.0],\n",
    "               [1.0, 0.0, 0.0]],\n",
    "    'green' : [[0.0, 0.0, 0.0],\n",
    "               [1.0, 0.0, 0.0]],\n",
    "    'blue'  : [[0.0, 0.0, 0.0],\n",
    "               [1.0, 0.0, 0.0]],\n",
    "    'alpha' : [[0.0, 0.0, 0.0],\n",
    "               [1.0, 1.0, 1.0]]\n",
    "}\n",
    "black_alpha = plcolor.LinearSegmentedColormap('black_alpha', cdict)"
   ]
  },
  {
   "cell_type": "code",
   "execution_count": 13,
   "metadata": {},
   "outputs": [],
   "source": [
    "def individual_describe(G, weight_str, dist_str):\n",
    "    cluster_dict = nx.clustering(G, weight=weight_str)\n",
    "    central_dict = nx.closeness_centrality(G, distance=dist_str, wf_improved=True)\n",
    "    ind_list = []\n",
    "    for n in G.nodes():\n",
    "        if not 'x' in G.nodes[n].keys():\n",
    "            G.nodes[n]['x'] = None\n",
    "        if not 'y' in G.nodes[n].keys():\n",
    "            G.nodes[n]['y'] = None\n",
    "        dict_des = {'clustering': cluster_dict[n], 'out_degree': G.out_degree(n), 'avg_position_x': G.nodes[n]['x'], 'avg_position_y': G.nodes[n]['y'], 'centrality': central_dict[n], 'PlayerID': n}\n",
    "        ind_list.append(dict_des)\n",
    "    return ind_list"
   ]
  },
  {
   "cell_type": "code",
   "execution_count": 14,
   "metadata": {},
   "outputs": [],
   "source": [
    "def gen_cal_graph_match(match_num, team_name):\n",
    "    G = nx.DiGraph()\n",
    "    with open('2020_Problem_D_DATA/weight.csv') as f:\n",
    "        f_csv = csv.DictReader(f)\n",
    "        for row in f_csv:\n",
    "            if int(row['MatchID']) is int(match_num) and team_name in row['OriginID'] and team_name in row['DestinationID']:\n",
    "                if G.has_edge(row['OriginID'], row['DestinationID']):\n",
    "                    G[row['OriginID']][row['DestinationID']]['weight'] += int(row['Weight'])\n",
    "                else:\n",
    "                    G.add_edge(row['OriginID'], row['DestinationID'], weight=int(row['Weight']))\n",
    "\n",
    "    with open('2020_Problem_D_DATA/location.csv') as f:\n",
    "        f_csv = csv.DictReader(f)\n",
    "        for row in f_csv:\n",
    "            if row['OriginPlayerID'] in G.nodes() and int(row['MatchID']) is int(match_num):\n",
    "                G.nodes[row['OriginPlayerID']]['x'] = float(row['EventOrigin_x'])\n",
    "                G.nodes[row['OriginPlayerID']]['y'] = float(row['EventOrigin_y'])\n",
    "    for u, v in G.edges():\n",
    "        G[u][v]['distance'] = 1 / G[u][v]['weight']\n",
    "\n",
    "    total_list = individual_describe(G, 'weight', 'distance')\n",
    "    for dict_ele in total_list:\n",
    "        dict_ele['teamID'] = team_name\n",
    "        dict_ele['matchID'] = match_num\n",
    "    return total_list"
   ]
  },
  {
   "cell_type": "code",
   "execution_count": 15,
   "metadata": {},
   "outputs": [],
   "source": [
    "total_list = []\n",
    "with open('2020_Problem_D_DATA/matches.csv') as f:\n",
    "    f_csv = csv.DictReader(f)\n",
    "    for row in f_csv:\n",
    "        total_list.extend(gen_cal_graph_match(row['MatchID'], 'Huskies'))\n",
    "        # total_list.extend(gen_cal_graph_match(row['MatchID'], row['OpponentID']))"
   ]
  },
  {
   "cell_type": "code",
   "execution_count": 17,
   "metadata": {},
   "outputs": [],
   "source": [
    "headers = ['matchID', 'teamID', 'PlayerID', 'clustering', 'out_degree', 'centrality', 'avg_position_x', 'avg_position_y']\n",
    "with open('match_indicator_individual.csv', 'w') as f:\n",
    "    f_csv = csv.DictWriter(f, headers)\n",
    "    f_csv.writeheader()\n",
    "    f_csv.writerows(total_list)"
   ]
  },
  {
   "cell_type": "code",
   "execution_count": null,
   "metadata": {},
   "outputs": [],
   "source": []
  }
 ]
}