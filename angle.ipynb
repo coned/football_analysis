{
 "nbformat": 4,
 "nbformat_minor": 2,
 "metadata": {
  "language_info": {
   "name": "python",
   "codemirror_mode": {
    "name": "ipython",
    "version": 3
   },
   "version": "3.8.1-final"
  },
  "orig_nbformat": 2,
  "file_extension": ".py",
  "mimetype": "text/x-python",
  "name": "python",
  "npconvert_exporter": "python",
  "pygments_lexer": "ipython3",
  "version": 3,
  "kernelspec": {
   "name": "python38164bit0d31838e1ad44f9996d8fc6fab7bed00",
   "display_name": "Python 3.8.1 64-bit"
  }
 },
 "cells": [
  {
   "cell_type": "code",
   "execution_count": 1,
   "metadata": {},
   "outputs": [],
   "source": [
    "import csv\n",
    "import numpy as np"
   ]
  },
  {
   "cell_type": "code",
   "execution_count": 3,
   "metadata": {},
   "outputs": [],
   "source": [
    "score = np.array([3,1,0,0,0,3,0,1,0,0,3,1,0,3,3,1,3,3,1,1,0,0,0,1,3,0,3,0,0,3,3,0,1,1,3,3,1,0])"
   ]
  },
  {
   "cell_type": "code",
   "execution_count": 18,
   "metadata": {},
   "outputs": [
    {
     "name": "stdout",
     "output_type": "stream",
     "text": "avg_clustering 0.7959224484643803\ntotal_degree 0.7770138037791297\nclique_number 0.7694128421896543\navg_position_x 0.7881381364839898\navg_position_y 0.7739713516682414\n"
    }
   ],
   "source": [
    "angle_dict = {}\n",
    "\n",
    "indicators = ['avg_clustering','total_degree','clique_number','avg_position_x','avg_position_y']\n",
    "for ind in indicators:\n",
    "    ind_list = []\n",
    "    with open('match_indicator.csv') as f:\n",
    "        f_csv = csv.DictReader(f)\n",
    "        for row in f_csv:\n",
    "            if 'Huskies' in row['teamID']:\n",
    "                ind_list.append(float(row[ind]))\n",
    "    ind_arr = np.array(ind_list)\n",
    "    cosangle = score.dot(ind_arr) / (np.linalg.norm(score) * np.linalg.norm(ind_arr))\n",
    "    print(ind, np.arccos(cosangle))\n"
   ]
  }
 ]
}