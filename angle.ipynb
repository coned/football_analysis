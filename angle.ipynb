{
 "nbformat": 4,
 "nbformat_minor": 2,
 "metadata": {
  "language_info": {
   "name": "python",
   "codemirror_mode": {
    "name": "ipython",
    "version": 3
   },
   "version": "3.8.1-final"
  },
  "orig_nbformat": 2,
  "file_extension": ".py",
  "mimetype": "text/x-python",
  "name": "python",
  "npconvert_exporter": "python",
  "pygments_lexer": "ipython3",
  "version": 3,
  "kernelspec": {
   "name": "python38164bit0d31838e1ad44f9996d8fc6fab7bed00",
   "display_name": "Python 3.8.1 64-bit"
  }
 },
 "cells": [
  {
   "cell_type": "code",
   "execution_count": 1,
   "metadata": {},
   "outputs": [],
   "source": [
    "import csv\n",
    "import numpy as np"
   ]
  },
  {
   "cell_type": "code",
   "execution_count": 2,
   "metadata": {},
   "outputs": [],
   "source": [
    "score = np.array([3,1,0,0,0,3,0,1,0,0,3,1,0,3,3,1,3,3,1,1,0,0,0,1,3,0,3,0,0,3,3,0,1,1,3,3,1,0])"
   ]
  },
  {
   "cell_type": "code",
   "execution_count": 6,
   "metadata": {},
   "outputs": [],
   "source": [
    "angle_list = []\n",
    "\n",
    "indicators = ['avg_clustering','total_degree','clique_number','avg_position_x','avg_position_y']\n",
    "for i in range(len(indicators)):\n",
    "    angle_dict = {'name': indicators[i]}\n",
    "    for j in range(len(indicators)):\n",
    "        ind_list_i = []\n",
    "        ind_list_j = []\n",
    "        with open('match_indicator.csv') as f:\n",
    "            f_csv = csv.DictReader(f)\n",
    "            for row in f_csv:\n",
    "                if 'Huskies' in row['teamID']:\n",
    "                    ind_list_i.append(float(row[indicators[i]]))\n",
    "                    ind_list_j.append(float(row[indicators[j]]))\n",
    "\n",
    "        ind_arr_i = np.array(ind_list_i)\n",
    "        ind_arr_j = np.array(ind_list_j)\n",
    "        cosangle = ind_arr_i.dot(ind_arr_j) / (np.linalg.norm(ind_arr_i) * np.linalg.norm(ind_arr_j))\n",
    "        angle_dict[indicators[j]] = np.arccos(cosangle)\n",
    "    angle_list.append(angle_dict)\n"
   ]
  },
  {
   "cell_type": "code",
   "execution_count": 7,
   "metadata": {},
   "outputs": [],
   "source": [
    "headers = ['name', 'avg_clustering','total_degree','clique_number','avg_position_x','avg_position_y']\n",
    "with open('angle_relation.csv', 'w') as f:\n",
    "    f_csv = csv.DictWriter(f, headers)\n",
    "    f_csv.writeheader()\n",
    "    f_csv.writerows(angle_list)"
   ]
  },
  {
   "cell_type": "code",
   "execution_count": null,
   "metadata": {},
   "outputs": [],
   "source": []
  }
 ]
}