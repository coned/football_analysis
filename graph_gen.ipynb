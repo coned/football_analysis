{
 "nbformat": 4,
 "nbformat_minor": 2,
 "metadata": {
  "language_info": {
   "name": "python",
   "codemirror_mode": {
    "name": "ipython",
    "version": 3
   },
   "version": "3.7.3-final"
  },
  "orig_nbformat": 2,
  "file_extension": ".py",
  "mimetype": "text/x-python",
  "name": "python",
  "npconvert_exporter": "python",
  "pygments_lexer": "ipython3",
  "version": 3,
  "kernelspec": {
   "name": "python3",
   "display_name": "Python 3"
  }
 },
 "cells": [
  {
   "cell_type": "code",
   "execution_count": 25,
   "metadata": {},
   "outputs": [],
   "source": [
    "import csv\n",
    "import networkx as nx"
   ]
  },
  {
   "cell_type": "code",
   "execution_count": 28,
   "metadata": {},
   "outputs": [],
   "source": [
    "G = nx.DiGraph()\n",
    "with open('2020_Problem_D_DATA/weight.csv') as f:\n",
    "    f_csv = csv.DictReader(f)\n",
    "    for row in f_csv:\n",
    "        if int(row['MatchID']) is 1 and 'Huskies' in row['OriginID']:\n",
    "            G.add_edge(row['OriginID'], row['DestinationID'], weight=int(row['Weight']))\n",
    "            \n",
    "        else:\n",
    "            break\n",
    "\n",
    "with open('2020_Problem_D_DATA/location.csv') as f:\n",
    "    f_csv = csv.DictReader(f)\n",
    "    for row in f_csv:\n",
    "        if int(row['MatchID']) is 1 and 'Huskies' in row['OriginPlayerID']:\n",
    "            G.nodes[row['OriginPlayerID']]['x'] = float(row['EventOrigin_x'])\n",
    "            G.nodes[row['OriginPlayerID']]['y'] = float(row['EventOrigin_y'])\n",
    "        else:\n",
    "            break"
   ]
  },
  {
   "cell_type": "code",
   "execution_count": null,
   "metadata": {},
   "outputs": [],
   "source": []
  }
 ]
}