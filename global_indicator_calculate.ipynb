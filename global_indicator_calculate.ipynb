{
 "nbformat": 4,
 "nbformat_minor": 2,
 "metadata": {
  "language_info": {
   "name": "python",
   "codemirror_mode": {
    "name": "ipython",
    "version": 3
   },
   "version": "3.8.1-final"
  },
  "orig_nbformat": 2,
  "file_extension": ".py",
  "mimetype": "text/x-python",
  "name": "python",
  "npconvert_exporter": "python",
  "pygments_lexer": "ipython3",
  "version": 3,
  "kernelspec": {
   "name": "python38164bit0d31838e1ad44f9996d8fc6fab7bed00",
   "display_name": "Python 3.8.1 64-bit"
  }
 },
 "cells": [
  {
   "cell_type": "code",
   "execution_count": 2,
   "metadata": {},
   "outputs": [],
   "source": [
    "import csv\n",
    "import networkx as nx\n",
    "import matplotlib.pyplot as plt\n",
    "import matplotlib.colors as plcolor"
   ]
  },
  {
   "cell_type": "code",
   "execution_count": 3,
   "metadata": {},
   "outputs": [],
   "source": [
    "def my_layout(G, scale=100):\n",
    "    layout = {}\n",
    "    for node in G.nodes():\n",
    "        layout[node] = [G.nodes[node]['x'] / scale, G.nodes[node]['y'] / scale]\n",
    "    return layout"
   ]
  },
  {
   "cell_type": "code",
   "execution_count": 4,
   "metadata": {},
   "outputs": [],
   "source": [
    "cdict = {\n",
    "    'red'   : [[0.0, 0.0, 0.0],\n",
    "               [1.0, 0.0, 0.0]],\n",
    "    'green' : [[0.0, 0.0, 0.0],\n",
    "               [1.0, 0.0, 0.0]],\n",
    "    'blue'  : [[0.0, 0.0, 0.0],\n",
    "               [1.0, 0.0, 0.0]],\n",
    "    'alpha' : [[0.0, 0.0, 0.0],\n",
    "               [1.0, 1.0, 1.0]]\n",
    "}\n",
    "black_alpha = plcolor.LinearSegmentedColormap('black_alpha', cdict)"
   ]
  },
  {
   "cell_type": "code",
   "execution_count": 5,
   "metadata": {},
   "outputs": [],
   "source": [
    "def total_degree(G, weight_str):\n",
    "    sum_degree = 0\n",
    "    for player, d in G.out_degree(weight=weight_str):\n",
    "        sum_degree += d\n",
    "    return sum_degree"
   ]
  },
  {
   "cell_type": "code",
   "execution_count": 18,
   "metadata": {},
   "outputs": [],
   "source": [
    "def avg_distance(G, weight_str):\n",
    "    short_ite = nx.all_pairs_dijkstra_path_length(G,weight=lambda u,v,d: 1 / d[weight_str])\n",
    "    n = 0\n",
    "    dist_tot = 0.0\n",
    "    for s, d in short_ite:\n",
    "        for k, v in d.items():\n",
    "            dist_tot += v\n",
    "            n += 1\n",
    "    return dist_tot / n"
   ]
  },
  {
   "cell_type": "code",
   "execution_count": 19,
   "metadata": {},
   "outputs": [],
   "source": [
    "def avg_position(G):\n",
    "    sum_x = 0.0\n",
    "    sum_y = 0.0\n",
    "    num_node = G.number_of_nodes()\n",
    "    for n in G.nodes():\n",
    "        if 'x' in G.nodes[n].keys():\n",
    "            sum_x += G.nodes[n]['x']\n",
    "            sum_y += G.nodes[n]['y']\n",
    "        else:\n",
    "            num_node -= 1\n",
    "    avg_pos = (sum_x / num_node, sum_y / num_node)\n",
    "    return avg_pos"
   ]
  },
  {
   "cell_type": "code",
   "execution_count": 31,
   "metadata": {},
   "outputs": [],
   "source": [
    "def important_pair(G, weight_str):\n",
    "    nodes = list(G.nodes())\n",
    "    sort_list = []\n",
    "    for i in range(0, len(nodes)):\n",
    "        for j in range(i+1, len(nodes)):\n",
    "            if G.has_edge(nodes[i], nodes[j]) and G.has_edge(nodes[j], nodes[i]):\n",
    "                sort_list.append( (G[nodes[i]][nodes[j]][weight_str]+G[nodes[j]][nodes[i]][weight_str], nodes[i], nodes[j]) )\n",
    "    sort_list.sort(reverse = True)\n",
    "    return sort_list[0:3]"
   ]
  },
  {
   "cell_type": "code",
   "execution_count": 32,
   "metadata": {},
   "outputs": [],
   "source": [
    "def global_describe(G, weight_str):\n",
    "    avg_clu = nx.average_clustering(G, weight=weight_str)\n",
    "    tot_deg = total_degree(G, weight_str)\n",
    "    max_cli = nx.graph_clique_number(G.to_undirected())\n",
    "    avg_pos = avg_position(G)\n",
    "    avg_dis = avg_distance(G, weight_str)\n",
    "    imp_par = important_pair(G, weight_str)\n",
    "    dict_des = {'avg_clustering': avg_clu, 'total_degree': tot_deg, 'clique_number': max_cli, 'avg_position_x': avg_pos[0], 'avg_position_y': avg_pos[1], 'avg_distance':avg_dis, 'important_pair': imp_par}\n",
    "    return dict_des"
   ]
  },
  {
   "cell_type": "code",
   "execution_count": 21,
   "metadata": {},
   "outputs": [],
   "source": [
    "def gen_cal_graph(team_name):\n",
    "    G = nx.DiGraph()\n",
    "    with open('2020_Problem_D_DATA/weight.csv') as f:\n",
    "        f_csv = csv.DictReader(f)\n",
    "        for row in f_csv:\n",
    "            if team_name in row['OriginID'] and team_name in row['DestinationID']:\n",
    "                if G.has_edge(row['OriginID'], row['DestinationID']):\n",
    "                    G[row['OriginID']][row['DestinationID']]['weight'] += int(row['Weight'])\n",
    "                else:\n",
    "                    G.add_edge(row['OriginID'], row['DestinationID'], weight=int(row['Weight']))\n",
    "\n",
    "    with open('2020_Problem_D_DATA/macro_location.csv') as f:\n",
    "        f_csv = csv.DictReader(f)\n",
    "        for row in f_csv:\n",
    "            if team_name in row['OriginPlayerID']:\n",
    "                G.nodes[row['OriginPlayerID']]['x'] = float(row['EventOrigin_x'])\n",
    "                G.nodes[row['OriginPlayerID']]['y'] = float(row['EventOrigin_y'])\n",
    "    total_dict = global_describe(G, 'weight')\n",
    "    total_dict['teamID'] = team_name\n",
    "    return total_dict"
   ]
  },
  {
   "cell_type": "code",
   "execution_count": 22,
   "metadata": {},
   "outputs": [],
   "source": [
    "team_names = ['Huskies','Opponent1','Opponent2','Opponent3','Opponent4','Opponent5','Opponent6','Opponent7','Opponent8','Opponent9','Opponent10','Opponent11','Opponent12','Opponent13','Opponent14','Opponent15','Opponent16','Opponent17','Opponent18','Opponent19']\n",
    "total_list = []\n",
    "for name in team_names:\n",
    "    total_list.append(gen_cal_graph(name))"
   ]
  },
  {
   "cell_type": "code",
   "execution_count": 24,
   "metadata": {},
   "outputs": [],
   "source": [
    "headers = ['teamID', 'avg_distance', 'clique_number', 'avg_clustering', 'avg_position_y', 'avg_position_x', 'total_degree']\n",
    "with open('global_indicator_dist.csv', 'w') as f:\n",
    "    f_csv = csv.DictWriter(f, headers)\n",
    "    f_csv.writeheader()\n",
    "    f_csv.writerows(total_list)"
   ]
  },
  {
   "cell_type": "code",
   "execution_count": 33,
   "metadata": {},
   "outputs": [],
   "source": [
    "def gen_cal_graph_match(match_num, team_name):\n",
    "    G = nx.DiGraph()\n",
    "    with open('2020_Problem_D_DATA/weight.csv') as f:\n",
    "        f_csv = csv.DictReader(f)\n",
    "        for row in f_csv:\n",
    "            if int(row['MatchID']) is int(match_num) and team_name in row['OriginID'] and team_name in row['DestinationID']:\n",
    "                if G.has_edge(row['OriginID'], row['DestinationID']):\n",
    "                    G[row['OriginID']][row['DestinationID']]['weight'] += int(row['Weight'])\n",
    "                else:\n",
    "                    G.add_edge(row['OriginID'], row['DestinationID'], weight=int(row['Weight']))\n",
    "\n",
    "    with open('2020_Problem_D_DATA/location.csv') as f:\n",
    "        f_csv = csv.DictReader(f)\n",
    "        for row in f_csv:\n",
    "            if row['OriginPlayerID'] in G.nodes() and int(row['MatchID']) is int(match_num):\n",
    "                G.nodes[row['OriginPlayerID']]['x'] = float(row['EventOrigin_x'])\n",
    "                G.nodes[row['OriginPlayerID']]['y'] = float(row['EventOrigin_y'])\n",
    "    \n",
    "    total_dict = global_describe(G, 'weight')\n",
    "    total_dict['teamID'] = team_name\n",
    "    total_dict['matchID'] = match_num\n",
    "    return total_dict"
   ]
  },
  {
   "cell_type": "code",
   "execution_count": 34,
   "metadata": {},
   "outputs": [],
   "source": [
    "total_list = []\n",
    "with open('2020_Problem_D_DATA/matches.csv') as f:\n",
    "    f_csv = csv.DictReader(f)\n",
    "    for row in f_csv:\n",
    "        total_list.append(gen_cal_graph_match(row['MatchID'], 'Huskies'))\n",
    "        total_list.append(gen_cal_graph_match(row['MatchID'], row['OpponentID']))"
   ]
  },
  {
   "cell_type": "code",
   "execution_count": 35,
   "metadata": {},
   "outputs": [],
   "source": [
    "headers = ['matchID', 'teamID', 'avg_distance', 'important_pair', 'avg_clustering', 'total_degree', 'clique_number', 'avg_position_x', 'avg_position_y']\n",
    "with open('global_indicator_dist.csv', 'w') as f:\n",
    "    f_csv = csv.DictWriter(f, headers)\n",
    "    f_csv.writeheader()\n",
    "    f_csv.writerows(total_list)"
   ]
  },
  {
   "cell_type": "code",
   "execution_count": null,
   "metadata": {},
   "outputs": [],
   "source": []
  }
 ]
}