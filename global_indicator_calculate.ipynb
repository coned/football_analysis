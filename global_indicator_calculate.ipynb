{
 "nbformat": 4,
 "nbformat_minor": 2,
 "metadata": {
  "language_info": {
   "name": "python",
   "codemirror_mode": {
    "name": "ipython",
    "version": 3
   },
   "version": "3.8.1-final"
  },
  "orig_nbformat": 2,
  "file_extension": ".py",
  "mimetype": "text/x-python",
  "name": "python",
  "npconvert_exporter": "python",
  "pygments_lexer": "ipython3",
  "version": 3,
  "kernelspec": {
   "name": "python38164bit0d31838e1ad44f9996d8fc6fab7bed00",
   "display_name": "Python 3.8.1 64-bit"
  }
 },
 "cells": [
  {
   "cell_type": "code",
   "execution_count": 12,
   "metadata": {},
   "outputs": [],
   "source": [
    "import csv\n",
    "import networkx as nx\n",
    "import matplotlib.pyplot as plt\n",
    "import matplotlib.colors as plcolor"
   ]
  },
  {
   "cell_type": "code",
   "execution_count": 13,
   "metadata": {},
   "outputs": [],
   "source": [
    "def my_layout(G, scale=100):\n",
    "    layout = {}\n",
    "    for node in G.nodes():\n",
    "        layout[node] = [G.nodes[node]['x'] / scale, G.nodes[node]['y'] / scale]\n",
    "    return layout"
   ]
  },
  {
   "cell_type": "code",
   "execution_count": 14,
   "metadata": {},
   "outputs": [],
   "source": [
    "cdict = {\n",
    "    'red'   : [[0.0, 0.0, 0.0],\n",
    "               [1.0, 0.0, 0.0]],\n",
    "    'green' : [[0.0, 0.0, 0.0],\n",
    "               [1.0, 0.0, 0.0]],\n",
    "    'blue'  : [[0.0, 0.0, 0.0],\n",
    "               [1.0, 0.0, 0.0]],\n",
    "    'alpha' : [[0.0, 0.0, 0.0],\n",
    "               [1.0, 1.0, 1.0]]\n",
    "}\n",
    "black_alpha = plcolor.LinearSegmentedColormap('black_alpha', cdict)"
   ]
  },
  {
   "cell_type": "code",
   "execution_count": 56,
   "metadata": {},
   "outputs": [],
   "source": [
    "def total_degree(G, weight_str):\n",
    "    sum_degree = 0\n",
    "    for player, d in G.out_degree(weight=weight_str):\n",
    "        sum_degree += d\n",
    "    return sum_degree"
   ]
  },
  {
   "cell_type": "code",
   "execution_count": 81,
   "metadata": {},
   "outputs": [],
   "source": [
    "def avg_position(G):\n",
    "    sum_x = 0.0\n",
    "    sum_y = 0.0\n",
    "    num_node = G.number_of_nodes()\n",
    "    for n in G.nodes():\n",
    "        if 'x' in G.nodes[n].keys():\n",
    "            sum_x += G.nodes[n]['x']\n",
    "            sum_y += G.nodes[n]['y']\n",
    "        else:\n",
    "            num_node -= 1\n",
    "    avg_pos = (sum_x / num_node, sum_y / num_node)\n",
    "    return avg_pos"
   ]
  },
  {
   "cell_type": "code",
   "execution_count": 82,
   "metadata": {},
   "outputs": [],
   "source": [
    "def global_describe(G, weight_str):\n",
    "    avg_clu = nx.average_clustering(G, weight=weight_str)\n",
    "    tot_deg = total_degree(G, weight_str)\n",
    "    max_cli = nx.graph_clique_number(G.to_undirected())\n",
    "    avg_pos = avg_position(G)\n",
    "    dict_des = {'avg_clustering': avg_clu, 'total_degree': tot_deg, 'clique_number': max_cli, 'avg_position': avg_pos}\n",
    "    return dict_des"
   ]
  },
  {
   "cell_type": "code",
   "execution_count": 83,
   "metadata": {},
   "outputs": [],
   "source": [
    "def gen_cal_graph(team_name):\n",
    "    G = nx.DiGraph()\n",
    "    with open('2020_Problem_D_DATA/weight.csv') as f:\n",
    "        f_csv = csv.DictReader(f)\n",
    "        for row in f_csv:\n",
    "            if team_name in row['OriginID'] and team_name in row['DestinationID']:\n",
    "                if G.has_edge(row['OriginID'], row['DestinationID']):\n",
    "                    G[row['OriginID']][row['DestinationID']]['weight'] += int(row['Weight'])\n",
    "                else:\n",
    "                    G.add_edge(row['OriginID'], row['DestinationID'], weight=int(row['Weight']))\n",
    "\n",
    "    with open('2020_Problem_D_DATA/macro_location.csv') as f:\n",
    "        f_csv = csv.DictReader(f)\n",
    "        for row in f_csv:\n",
    "            if team_name in row['OriginPlayerID']:\n",
    "                G.nodes[row['OriginPlayerID']]['x'] = float(row['EventOrigin_x'])\n",
    "                G.nodes[row['OriginPlayerID']]['y'] = float(row['EventOrigin_y'])\n",
    "    total_dict = global_describe(G, 'weight')\n",
    "    total_dict['teamID'] = team_name\n",
    "    return total_dict"
   ]
  },
  {
   "cell_type": "code",
   "execution_count": 84,
   "metadata": {},
   "outputs": [],
   "source": [
    "team_names = ['Huskies','Opponent1','Opponent2','Opponent3','Opponent4','Opponent5','Opponent6','Opponent7','Opponent8','Opponent9','Opponent10','Opponent11','Opponent12','Opponent13','Opponent14','Opponent15','Opponent16','Opponent17','Opponent18','Opponent19']\n",
    "total_list = []\n",
    "for name in team_names:\n",
    "    total_list.append(gen_cal_graph(name))"
   ]
  },
  {
   "cell_type": "code",
   "execution_count": 87,
   "metadata": {},
   "outputs": [],
   "source": [
    "headers = ['teamID', 'avg_clustering', 'total_degree', 'clique_number', 'avg_position']\n",
    "with open('global_indicator.csv', 'w') as f:\n",
    "    f_csv = csv.DictWriter(f, headers)\n",
    "    f_csv.writeheader()\n",
    "    f_csv.writerows(total_list)"
   ]
  },
  {
   "cell_type": "code",
   "execution_count": null,
   "metadata": {},
   "outputs": [],
   "source": []
  }
 ]
}